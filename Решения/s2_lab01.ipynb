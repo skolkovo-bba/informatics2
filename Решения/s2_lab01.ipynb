{
 "cells": [
  {
   "cell_type": "markdown",
   "id": "58d6b9b9",
   "metadata": {
    "tags": []
   },
   "source": [
    "- title: Занятие 1\n",
    "- author: Khirianov Timofey\n",
    "- date: 2023-02-02\n",
    "- slug: s2_lab01\n",
    "- ipynb_url: download/s2_lab01.ipynb"
   ]
  },
  {
   "cell_type": "markdown",
   "id": "ba9c4978",
   "metadata": {},
   "source": [
    "# Занятие 1:  Асимптотическая сложность алгоритмов. Тестирование простоты чисел и факторизация\n",
    "\n",
    "## Цель: Вспомнить основные конструкции языка и алгоритмы класса bruteforce"
   ]
  },
  {
   "cell_type": "markdown",
   "id": "03699e17",
   "metadata": {},
   "source": [
    "## Тест простоты числа\n",
    "### Теорема Вильсона\n",
    "\n",
    "*Если $p$ — простое число, то число $(p-1)!+1$ делится на $p$.\n",
    "Обратно: если $(p-1)!+1$ делится на $p$, то $p$ — простое число.*\n",
    "\n",
    "Заманчиво просто, не так ли? Однако, эта теорема, в основном, имеет теоретическое значение, поскольку факториал $(p-1)!$ вычислить довольно трудно. Проще вычислить $a^{p-1}$, поэтому элементарные тесты, определяющие, является ли число простым, основаны на теореме Ферма, а не на теореме Вильсона. Например, наибольшее простое число, найденное с использованием теоремы Вильсона, скорее всего — 1099511628401, и даже с оптимизированным подходом к расчёту $p!$ потребуется около суток вычислений на процессорах SPARC.\n",
    "\n",
    "Напишите **тест простоты по теореме Вильсона**:"
   ]
  },
  {
   "cell_type": "code",
   "execution_count": 17,
   "id": "89ed0995",
   "metadata": {},
   "outputs": [
    {
     "name": "stdout",
     "output_type": "stream",
     "text": [
      "123456 is not a prime number.\n"
     ]
    }
   ],
   "source": [
    "def is_prime_wilson_test(p):\n",
    "    def fact(n):\n",
    "        ans = 1\n",
    "        for i in range(2, n + 1):\n",
    "            ans *= i\n",
    "        return ans\n",
    "    \n",
    "    return (fact(p - 1) + 1) % p == 0\n",
    "\n",
    "\n",
    "x = int(input(\"Enter the number to test:\"))\n",
    "if is_prime_wilson_test(x):\n",
    "    print(f\"{x} is a prime number!\")\n",
    "else:\n",
    "    print(f\"{x} is not a prime number.\")"
   ]
  },
  {
   "cell_type": "markdown",
   "id": "1afaee4f",
   "metadata": {},
   "source": [
    "### Малая теорема Ферма\n",
    "\n",
    "*Если $p$ — простое число и $a$ — целое число, не делящееся на $p$, то $a^{p-1}-1$ делится на $p$.*\n",
    "\n",
    "На языке теории сравнений: $a^{p-1}$ сравнимо с $1$ по простому модулю $p$. Формальная запись: $a^{p-1}\\equiv 1{\\pmod {p}}$\n",
    "\n",
    "Малая теорема Ферма может быть использована для тестирования числа на простоту: если $(a^{p}-a)$ не делится на $p$, то $p$ — составное число. Однако обращение малой теоремы Ферма в общем случае неверно: если $a$ и $p$ — взаимно простые числа и $a^{p-1} - 1$ делится на $p$, то число $p$ может быть как простым, так и составным. В случае, когда $p$ является составным, оно называется [псевдопростым числом Ферма](https://ru.wikipedia.org/wiki/%D0%9F%D1%81%D0%B5%D0%B2%D0%B4%D0%BE%D0%BF%D1%80%D0%BE%D1%81%D1%82%D1%8B%D0%B5_%D1%87%D0%B8%D1%81%D0%BB%D0%B0_%D0%A4%D0%B5%D1%80%D0%BC%D0%B0) по основанию $a$.\n",
    "\n",
    "Напишите **тест Ферма** на основании этой теоремы.\n",
    "\n",
    "При использовании алгоритмов быстрого возведения в степень по модулю время работы теста Ферма для одного a оценивается как O(log2n × log log n × log log log n), где n — проверяемое число. Обычно проводится несколько проверок с различными a. "
   ]
  },
  {
   "cell_type": "code",
   "execution_count": 37,
   "id": "416a0a37",
   "metadata": {},
   "outputs": [
    {
     "ename": "ValueError",
     "evalue": "invalid literal for int() with base 10: ''",
     "output_type": "error",
     "traceback": [
      "\u001b[0;31m---------------------------------------------------------------------------\u001b[0m",
      "\u001b[0;31mValueError\u001b[0m                                Traceback (most recent call last)",
      "Cell \u001b[0;32mIn[37], line 27\u001b[0m\n\u001b[1;32m     22\u001b[0m             \u001b[39mreturn\u001b[39;00m \u001b[39mFalse\u001b[39;00m\n\u001b[1;32m     24\u001b[0m     \u001b[39mreturn\u001b[39;00m \u001b[39mTrue\u001b[39;00m\n\u001b[0;32m---> 27\u001b[0m x \u001b[39m=\u001b[39m \u001b[39mint\u001b[39;49m(\u001b[39minput\u001b[39;49m(\u001b[39m\"\u001b[39;49m\u001b[39mEnter the number to test:\u001b[39;49m\u001b[39m\"\u001b[39;49m))\n\u001b[1;32m     28\u001b[0m \u001b[39mif\u001b[39;00m is_prime_ferma_test(x):\n\u001b[1;32m     29\u001b[0m     \u001b[39mprint\u001b[39m(\u001b[39mf\u001b[39m\u001b[39m\"\u001b[39m\u001b[39m{\u001b[39;00mx\u001b[39m}\u001b[39;00m\u001b[39m is probably a prime number!\u001b[39m\u001b[39m\"\u001b[39m)\n",
      "\u001b[0;31mValueError\u001b[0m: invalid literal for int() with base 10: ''"
     ]
    }
   ],
   "source": [
    "import random\n",
    "\n",
    "def binpow(a, n):\n",
    "    res = 1\n",
    "    while n:\n",
    "        if n & 1:\n",
    "            res *= a\n",
    "        a *= a\n",
    "        n >>= 1\n",
    "    return res\n",
    "\n",
    "def is_prime_ferma_test(n, k = 10):\n",
    "    if n % 2 == 0 and n != 2:\n",
    "        return False\n",
    "\n",
    "    if n <= 3:\n",
    "        return True\n",
    "\n",
    "    for _ in range(k):\n",
    "        a = random.randint(4, n - 3) + 2\n",
    "        if binpow(a, n - 1) % n != 1:\n",
    "            return False\n",
    "\n",
    "    return True\n",
    "\n",
    "\n",
    "x = int(input(\"Enter the number to test:\"))\n",
    "if is_prime_ferma_test(x):\n",
    "    print(f\"{x} is probably a prime number!\")\n",
    "else:\n",
    "    print(f\"{x} is not a prime number.\")"
   ]
  },
  {
   "cell_type": "markdown",
   "id": "2676bba6",
   "metadata": {},
   "source": [
    "Проверьте, что ваш тест проваливается для [чисел Кармайкла](https://ru.wikipedia.org/wiki/%D0%A7%D0%B8%D1%81%D0%BB%D0%BE_%D0%9A%D0%B0%D1%80%D0%BC%D0%B0%D0%B9%D0%BA%D0%BB%D0%B0), например для наименьшего — 561."
   ]
  },
  {
   "cell_type": "markdown",
   "id": "03bdb0bc",
   "metadata": {},
   "source": [
    "### TODO: План дальнешей работы\n",
    "1. перебор всех делителей числа (по основной теореме арифметики)\n",
    "2. генерация случайных простых чисел\n",
    "3. метод шифрования RSA с реализацией"
   ]
  },
  {
   "cell_type": "code",
   "execution_count": 4,
   "id": "0a50f7f8",
   "metadata": {},
   "outputs": [],
   "source": [
    "import math\n",
    "\n",
    "def is_prime_algebra_test(n):\n",
    "    for i in range(2, int(math.sqrt(n)) + 2):\n",
    "        if n % i == 0:\n",
    "            return False\n",
    "    return True"
   ]
  },
  {
   "cell_type": "code",
   "execution_count": 2,
   "id": "2e2f9818",
   "metadata": {},
   "outputs": [
    {
     "name": "stdout",
     "output_type": "stream",
     "text": [
      "337\n"
     ]
    }
   ],
   "source": [
    "import random\n",
    "\n",
    "def get_a_lot_of_prime_numbers(n):\n",
    "    a = []\n",
    "    for i in range(n + 1):\n",
    "        a.append(i)\n",
    "    \n",
    "    a[1] = 0\n",
    "    \n",
    "    i = 2\n",
    "    while i <= n:\n",
    "        if a[i] != 0:\n",
    "            j = i + i\n",
    "            while j <= n:\n",
    "                a[j] = 0\n",
    "                j = j + i\n",
    "        i += 1\n",
    "    a = set(a)\n",
    "    a.remove(0)\n",
    "    return a\n",
    "\n",
    "def get_random_prime(n = 10 ** 3):\n",
    "    if not hasattr(get_random_prime, 'data'):   \n",
    "        get_random_prime.data = list(get_a_lot_of_prime_numbers(n))\n",
    "    return random.choice(get_random_prime.data)\n",
    "\n",
    "print(get_random_prime())"
   ]
  },
  {
   "cell_type": "code",
   "execution_count": 3,
   "id": "bb5a552d",
   "metadata": {},
   "outputs": [
    {
     "name": "stdout",
     "output_type": "stream",
     "text": [
      "571\n"
     ]
    }
   ],
   "source": [
    "print(get_random_prime())"
   ]
  },
  {
   "cell_type": "code",
   "execution_count": 21,
   "id": "7836f9b8",
   "metadata": {},
   "outputs": [
    {
     "name": "stdout",
     "output_type": "stream",
     "text": [
      "17 33 359813\n",
      "17 33 187053\n",
      "17 22 1363\n",
      "17 33 211993\n",
      "17 22 219673\n",
      "17 33 627293\n",
      "17 22 108073\n",
      "17 9 67969\n",
      "17 10 3961\n",
      "17 33 548733\n",
      "17 22 264033\n",
      "17 33 645293\n",
      "17 22 99173\n",
      "17 9 70757\n",
      "17 33 161953\n",
      "17 22 247063\n",
      "17 33 6933\n",
      "17 22 79803\n",
      "17 10 101837\n",
      "17 33 387793\n",
      "17 33 50933\n",
      "17 22 264183\n",
      "17 33 306693\n",
      "17 33 116713\n",
      "17 33 363093\n",
      "17 9 50613\n",
      "17 9 57229\n",
      "17 22 195333\n",
      "17 10 130869\n",
      "17 10 46909\n",
      "17 22 86483\n",
      "17 33 469853\n",
      "17 22 133713\n",
      "17 9 75069\n",
      "17 10 56169\n",
      "17 22 108833\n",
      "17 9 16977\n",
      "17 22 147943\n",
      "17 22 155083\n",
      "17 22 168263\n",
      "17 33 573693\n",
      "17 22 113653\n",
      "17 22 49843\n",
      "17 22 330273\n",
      "17 9 62513\n",
      "17 9 92281\n",
      "17 22 309013\n",
      "17 33 362153\n",
      "17 10 71993\n",
      "17 22 7813\n",
      "17 22 202933\n",
      "17 33 36273\n",
      "17 33 652933\n",
      "17 9 4437\n",
      "17 33 151873\n",
      "17 9 7301\n",
      "17 10 47541\n",
      "17 22 215473\n",
      "17 10 69513\n",
      "17 22 289223\n",
      "17 22 83503\n",
      "17 10 101525\n",
      "17 9 105617\n",
      "17 33 558733\n",
      "17 22 186743\n",
      "17 22 289353\n",
      "17 22 110593\n",
      "17 10 23985\n",
      "17 22 263753\n",
      "17 22 27553\n",
      "17 10 109889\n",
      "17 10 86309\n",
      "17 9 59193\n",
      "17 10 122421\n",
      "17 33 75833\n",
      "17 10 89861\n",
      "17 33 523793\n",
      "17 22 30623\n",
      "17 22 138333\n",
      "17 22 217823\n",
      "17 22 184903\n",
      "17 9 14357\n",
      "17 22 75583\n",
      "17 10 121769\n",
      "17 22 98073\n",
      "17 33 556093\n",
      "17 33 486233\n",
      "17 22 243993\n",
      "17 9 457\n",
      "17 10 41221\n",
      "17 33 457713\n"
     ]
    },
    {
     "ename": "KeyboardInterrupt",
     "evalue": "",
     "output_type": "error",
     "traceback": [
      "\u001b[0;31m---------------------------------------------------------------------------\u001b[0m",
      "\u001b[0;31mKeyboardInterrupt\u001b[0m                         Traceback (most recent call last)",
      "Cell \u001b[0;32mIn[21], line 26\u001b[0m\n\u001b[1;32m     23\u001b[0m k \u001b[39m=\u001b[39m random\u001b[39m.\u001b[39mrandint(\u001b[39m1\u001b[39m, \u001b[39m100000\u001b[39m)\n\u001b[1;32m     24\u001b[0m d \u001b[39m=\u001b[39m \u001b[39mint\u001b[39m((k \u001b[39m*\u001b[39m fi \u001b[39m+\u001b[39m \u001b[39m1\u001b[39m) \u001b[39m/\u001b[39m \u001b[39m3\u001b[39m)\n\u001b[0;32m---> 26\u001b[0m \u001b[39mif\u001b[39;00m gcd(e, fi) \u001b[39m==\u001b[39m \u001b[39m1\u001b[39m \u001b[39mand\u001b[39;00m d \u001b[39m*\u001b[39m e \u001b[39m%\u001b[39m fi \u001b[39m==\u001b[39m \u001b[39m1\u001b[39m:\n\u001b[1;32m     28\u001b[0m     m \u001b[39m=\u001b[39m \u001b[39m8\u001b[39m\n\u001b[1;32m     29\u001b[0m     c \u001b[39m=\u001b[39m m \u001b[39m*\u001b[39m\u001b[39m*\u001b[39m e \u001b[39m%\u001b[39m n\n",
      "Cell \u001b[0;32mIn[21], line 5\u001b[0m, in \u001b[0;36mgcd\u001b[0;34m(a, b)\u001b[0m\n\u001b[1;32m      3\u001b[0m \t\u001b[39mreturn\u001b[39;00m a;\n\u001b[1;32m      4\u001b[0m \u001b[39melse\u001b[39;00m:\n\u001b[0;32m----> 5\u001b[0m \t\u001b[39mreturn\u001b[39;00m gcd(b, a \u001b[39m%\u001b[39;49m b)\n",
      "Cell \u001b[0;32mIn[21], line 5\u001b[0m, in \u001b[0;36mgcd\u001b[0;34m(a, b)\u001b[0m\n\u001b[1;32m      3\u001b[0m \t\u001b[39mreturn\u001b[39;00m a;\n\u001b[1;32m      4\u001b[0m \u001b[39melse\u001b[39;00m:\n\u001b[0;32m----> 5\u001b[0m \t\u001b[39mreturn\u001b[39;00m gcd(b, a \u001b[39m%\u001b[39;49m b)\n",
      "\u001b[0;31mKeyboardInterrupt\u001b[0m: "
     ]
    }
   ],
   "source": [
    "def gcd(a, b):\n",
    "\tif b == 0:\n",
    "\t\treturn a;\n",
    "\telse:\n",
    "\t\treturn gcd(b, a % b)\n",
    "\n",
    "\n",
    "\n",
    "\n",
    "def gcd_pro(a, b):\n",
    "    if a == 0:\n",
    "        return (b, 0, 1)\n",
    "    else:\n",
    "        div, x, y = gcd_pro(b % a, a)\n",
    "    return (div, y - (b // a) * x, x)\n",
    "\n",
    "while True:\n",
    "    p = get_random_prime()\n",
    "    q = get_random_prime()\n",
    "    n = p * q\n",
    "    fi = (p - 1) * (q - 1)\n",
    "    e = 17\n",
    "    k = random.randint(1, 100000)\n",
    "    d = int((k * fi + 1) / 3)\n",
    "    \n",
    "    if gcd(e, fi) == 1 and d * e % fi == 1:\n",
    "        m = 8\n",
    "        c = m ** e % n\n",
    "        ret_m = c ** d % n\n",
    "        \n",
    "        if m == ret_m:\n",
    "            print(e, n, d)"
   ]
  },
  {
   "cell_type": "code",
   "execution_count": 130,
   "id": "a9367e3c",
   "metadata": {},
   "outputs": [
    {
     "data": {
      "text/plain": [
       "(1, -741, 1022)"
      ]
     },
     "execution_count": 130,
     "metadata": {},
     "output_type": "execute_result"
    }
   ],
   "source": [
    "gcd_pro(3557, 2579)"
   ]
  },
  {
   "cell_type": "code",
   "execution_count": 25,
   "id": "9bd02d19",
   "metadata": {},
   "outputs": [],
   "source": [
    "e = 17\n",
    "n = 9\n",
    "d = 457"
   ]
  },
  {
   "cell_type": "code",
   "execution_count": 26,
   "id": "f4f1eeb3",
   "metadata": {},
   "outputs": [],
   "source": [
    "m = 8"
   ]
  },
  {
   "cell_type": "code",
   "execution_count": 27,
   "id": "e4ddcafa",
   "metadata": {},
   "outputs": [
    {
     "name": "stdout",
     "output_type": "stream",
     "text": [
      "8\n",
      "8 True\n"
     ]
    }
   ],
   "source": [
    "c = m ** e % n\n",
    "print(c)\n",
    "ret_m = c ** d % n\n",
    "print(ret_m, m == ret_m)"
   ]
  },
  {
   "attachments": {},
   "cell_type": "markdown",
   "id": "0e153f1b",
   "metadata": {},
   "source": [
    "второй вариант RSA:"
   ]
  },
  {
   "cell_type": "code",
   "execution_count": null,
   "id": "2db3764f",
   "metadata": {},
   "outputs": [],
   "source": [
    "import random\n",
    "def rand (x):\n",
    "    resh=[True]*(x+1)\n",
    "    resh[0]=resh[1]=False\n",
    "    i=2\n",
    "    while i*i<=x:\n",
    "        if resh[i]:\n",
    "            j=i*i\n",
    "            while j<=x:\n",
    "                resh[j]=False\n",
    "                j+=i\n",
    "        i+=1\n",
    "    ind=[]\n",
    "    for i in range (1,len(resh)):\n",
    "        if resh[i]:\n",
    "            ind.append(i)\n",
    "    c=resh[0]\n",
    "    while not c:\n",
    "        f=random.choice(ind)\n",
    "        c=resh[f]\n",
    "    return f\n",
    "    \n",
    "    \n",
    " def evk (e, phi):\n",
    "    while e!=0 and phi!=0:\n",
    "        if e>phi:\n",
    "            e=e%phi\n",
    "        else:\n",
    "            phi=phi%e\n",
    "    return (max(e,phi))\n",
    "\n",
    "\n",
    "print('Введите число, которое необходимо зашифровать')\n",
    "x=int(input())\n",
    "print('Введите размер простых чисел')\n",
    "m=int(input())\n",
    "p=rand(m)\n",
    "q=rand(m)\n",
    "n=p*q\n",
    "phi=(p-1)*(q-1)\n",
    "e=phi\n",
    "while evk(e, phi)!=1:\n",
    "    e=random.randint(2, phi-1)\n",
    "i=1\n",
    "while int((i*phi+1)/e)!=(i*phi+1)/e:\n",
    "    i+=1\n",
    "d=int((i*phi+1)/e)\n",
    "c=x**e%n\n",
    "enc=c**d%n\n",
    "print(enc)"
   ]
  }
 ],
 "metadata": {
  "kernelspec": {
   "display_name": "Python 3",
   "language": "python",
   "name": "python3"
  },
  "language_info": {
   "codemirror_mode": {
    "name": "ipython",
    "version": 3
   },
   "file_extension": ".py",
   "mimetype": "text/x-python",
   "name": "python",
   "nbconvert_exporter": "python",
   "pygments_lexer": "ipython3",
   "version": "3.10.9"
  },
  "vscode": {
   "interpreter": {
    "hash": "b0fa6594d8f4cbf19f97940f81e996739fb7646882a419484c72d19e05852a7e"
   }
  }
 },
 "nbformat": 4,
 "nbformat_minor": 5
}
