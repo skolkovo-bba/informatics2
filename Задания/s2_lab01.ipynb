{
 "cells": [
  {
   "cell_type": "code",
   "execution_count": null,
   "id": "58d6b9b9",
   "metadata": {},
   "outputs": [],
   "source": [
    "- title: Занятие 1\n",
    "- author: Khirianov Timofey\n",
    "- date: 2023-02-02\n",
    "- slug: s2_lab01\n",
    "- ipynb_url: download/s2_lab01.ipynb"
   ]
  },
  {
   "cell_type": "markdown",
   "id": "ba9c4978",
   "metadata": {},
   "source": [
    "# Занятие 1:  Асимптотическая сложность алгоритмов. Тестирование простоты чисел и факторизация\n",
    "\n",
    "## Цель: Вспомнить основные конструкции языка и алгоритмы класса bruteforce"
   ]
  },
  {
   "cell_type": "markdown",
   "id": "03699e17",
   "metadata": {},
   "source": [
    "## Тест простоты числа\n",
    "### Теорема Вильсона\n",
    "\n",
    "*Если $p$ — простое число, то число $(p-1)!+1$ делится на $p$.\n",
    "Обратно: если $(p-1)!+1$ делится на $p$, то $p$ — простое число.*\n",
    "\n",
    "Заманчиво просто, не так ли? Однако, эта теорема, в основном, имеет теоретическое значение, поскольку факториал $(p-1)!$ вычислить довольно трудно. Проще вычислить $a^{p-1}$, поэтому элементарные тесты, определяющие, является ли число простым, основаны на теореме Ферма, а не на теореме Вильсона. Например, наибольшее простое число, найденное с использованием теоремы Вильсона, скорее всего — 1099511628401, и даже с оптимизированным подходом к расчёту $p!$ потребуется около суток вычислений на процессорах SPARC.\n",
    "\n",
    "Напишите **тест простоты по теореме Вильсона**:"
   ]
  },
  {
   "cell_type": "code",
   "execution_count": 1,
   "id": "89ed0995",
   "metadata": {},
   "outputs": [
    {
     "name": "stdout",
     "output_type": "stream",
     "text": [
      "Enter the number to test:214\n"
     ]
    }
   ],
   "source": [
    "def is_prime_wilson_test(n):\n",
    "    pass  # FIXME\n",
    "\n",
    "\n",
    "x = int(input(\"Enter the number to test:\"))\n",
    "if is_prime_wilson_test(x):\n",
    "    print(f\"{x} is a prime number!\")\n",
    "else:\n",
    "    print(f\"{x} is not a prime number.\")"
   ]
  },
  {
   "cell_type": "markdown",
   "id": "1afaee4f",
   "metadata": {},
   "source": [
    "### Малая теорема Ферма\n",
    "\n",
    "*Если $p$ — простое число и $a$ — целое число, не делящееся на $p$, то $a^{p-1}-1$ делится на $p$.*\n",
    "\n",
    "На языке теории сравнений: $a^{p-1}$ сравнимо с $1$ по простому модулю $p$. Формальная запись: $a^{p-1}\\equiv 1{\\pmod {p}}$\n",
    "\n",
    "Малая теорема Ферма может быть использована для тестирования числа на простоту: если $(a^{p}-a)$ не делится на $p$, то $p$ — составное число. Однако обращение малой теоремы Ферма в общем случае неверно: если $a$ и $p$ — взаимно простые числа и $a^{p-1} - 1$ делится на $p$, то число $p$ может быть как простым, так и составным. В случае, когда $p$ является составным, оно называется [псевдопростым числом Ферма](https://ru.wikipedia.org/wiki/%D0%9F%D1%81%D0%B5%D0%B2%D0%B4%D0%BE%D0%BF%D1%80%D0%BE%D1%81%D1%82%D1%8B%D0%B5_%D1%87%D0%B8%D1%81%D0%BB%D0%B0_%D0%A4%D0%B5%D1%80%D0%BC%D0%B0) по основанию $a$.\n",
    "\n",
    "Напишите **тест Ферма** на основании этой теоремы.\n",
    "\n",
    "При использовании алгоритмов быстрого возведения в степень по модулю время работы теста Ферма для одного a оценивается как O(log2n × log log n × log log log n), где n — проверяемое число. Обычно проводится несколько проверок с различными a. "
   ]
  },
  {
   "cell_type": "code",
   "execution_count": 4,
   "id": "416a0a37",
   "metadata": {},
   "outputs": [
    {
     "name": "stdout",
     "output_type": "stream",
     "text": [
      "Enter the number to test:561\n",
      "561 is not a prime number.\n"
     ]
    }
   ],
   "source": [
    "def is_prime_ferma_test(n):\n",
    "    pass  # TODO: check Ferma test with several numbers a\n",
    "\n",
    "\n",
    "x = int(input(\"Enter the number to test:\"))\n",
    "if is_prime_ferma_test(x):\n",
    "    print(f\"{x} is probably a prime number!\")\n",
    "else:\n",
    "    print(f\"{x} is not a prime number.\")"
   ]
  },
  {
   "cell_type": "markdown",
   "id": "2676bba6",
   "metadata": {},
   "source": [
    "Проверьте, что ваш тест проваливается для [чисел Кармайкла](https://ru.wikipedia.org/wiki/%D0%A7%D0%B8%D1%81%D0%BB%D0%BE_%D0%9A%D0%B0%D1%80%D0%BC%D0%B0%D0%B9%D0%BA%D0%BB%D0%B0), например для наименьшего — 561."
   ]
  },
  {
   "cell_type": "markdown",
   "id": "03bdb0bc",
   "metadata": {},
   "source": [
    "### TODO: План дальнешей работы\n",
    "1. перебор всех делителей числа (по основной теореме арифметики)\n",
    "2. генерация случайных простых чисел\n",
    "3. метод шифрования RSA с реализацией"
   ]
  },
  {
   "cell_type": "code",
   "execution_count": null,
   "id": "0a50f7f8",
   "metadata": {},
   "outputs": [],
   "source": []
  }
 ],
 "metadata": {
  "kernelspec": {
   "display_name": "Python 3 (ipykernel)",
   "language": "python",
   "name": "python3"
  },
  "language_info": {
   "codemirror_mode": {
    "name": "ipython",
    "version": 3
   },
   "file_extension": ".py",
   "mimetype": "text/x-python",
   "name": "python",
   "nbconvert_exporter": "python",
   "pygments_lexer": "ipython3",
   "version": "3.11.1"
  }
 },
 "nbformat": 4,
 "nbformat_minor": 5
}
