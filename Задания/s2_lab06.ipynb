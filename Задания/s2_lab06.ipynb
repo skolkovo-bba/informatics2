{
 "cells": [
  {
   "cell_type": "code",
   "execution_count": null,
   "id": "a4106b8d",
   "metadata": {},
   "outputs": [],
   "source": [
    "- title: Занятие 6\n",
    "- author: Timofei Khirianov\n",
    "- date: 2023-03-09\n",
    "- test_link: http://olymp3.vdi.mipt.ru/cgi-bin/new-client?contest_id=10204\n",
    "- test_comment: Задание №4\n",
    "- slug: s2_lab06\n",
    "- ipynb_url: download/s2_lab06.ipynb"
   ]
  },
  {
   "cell_type": "markdown",
   "id": "ba9c4978",
   "metadata": {},
   "source": [
    "# Занятие 6: Применение обхода в глубину. Алгоритм Флойда-Уоршелла"
   ]
  },
  {
   "cell_type": "markdown",
   "id": "40f9601a",
   "metadata": {},
   "source": [
    "## Ориентированные графы без циклов (Directed Acyclic Graphs, DAG)\n",
    "Если ориентированный граф не содержит циклов, то в нём возможно осуществить *топологическую сортировку вершин*, то есть пронумеровать их так, чтобы все рёбра шли по возрастанию индексов.\n",
    "\n",
    "Существует два алгоритма топологической сортировки — алгоритм Кана и алгоритм Тарьяна.\n",
    "\n",
    "### Алгоритм Кана\n",
    "Это не эффективный алгоритм! Его асимптотика $O(N^2)$ от количества вершин, и его не следует применять на практике.\n",
    "1. Среди всех вершин ищем такую, у которой *входящая степень вершины* равна нулю (т.е. нет входящих рёбер).\n",
    "   Если такой вершины нет, то в орграфе есть цикл, и топологическую сортировку выполнить невозможно.\n",
    "2. Даём ей очередной номер, а затем удаляем её из графа.\n",
    "3. Повторяем пункты 1-2 до тех пор, пока все вершины не окажутся пронумерованными.\n",
    "\n",
    "### Алгоритм Тарьяна\n",
    "Эффективный алгоритм с асимптотикой $O(N)$ от количества вершин.\n",
    "1. Берём первую попавшуюся вершину. Делаем обход графа в глубину от неё. Нумеруем каждую пройденную вершину *на выходе* из обхода (при \"покраске\" в \"чёрный цвет\"). Множество \"покрашенных\" обходом вершин не забываем — оно ещё пригодится для следующих обходов.\n",
    "2. Пока множество \"покрашенных\" вершин не пусто, повторяем обход из пункта 1 от любой из не пройденных ранее вершин. При этом в обходе \"покрашенные\" ранее вершины уже не участвуют.\n",
    "3. После нумерации всех вершин нужно поменять их нумерацию на противоположную. Впрочем, можно изначально нумеровать их от большего номера к меньшему."
   ]
  },
  {
   "cell_type": "markdown",
   "id": "1268f23c",
   "metadata": {},
   "source": [
    "### Реализация алгоритма Тарьяна топологической сортировки"
   ]
  },
  {
   "cell_type": "code",
   "execution_count": 5,
   "id": "e771477b",
   "metadata": {},
   "outputs": [
    {
     "name": "stdout",
     "output_type": "stream",
     "text": [
      "5 7\n",
      "0 1\n",
      "0 2\n",
      "2 1\n",
      "4 3\n",
      "2 3\n",
      "4 2\n",
      "4 0\n"
     ]
    }
   ],
   "source": [
    "def input_graph():\n",
    "    n, m = map(int, input().split())\n",
    "    G = {k:set() for k in range(n)}\n",
    "    for i in range(m):\n",
    "        a, b = map(int, input().split())\n",
    "        G[a].add(b)\n",
    "    return G\n",
    "\n",
    "G = input_graph()"
   ]
  },
  {
   "cell_type": "code",
   "execution_count": 6,
   "id": "0c15605a",
   "metadata": {},
   "outputs": [
    {
     "name": "stdout",
     "output_type": "stream",
     "text": [
      "{0: {1, 2}, 1: set(), 2: {1, 3}, 3: set(), 4: {0, 2, 3}}\n"
     ]
    }
   ],
   "source": [
    "print(G)"
   ]
  },
  {
   "cell_type": "code",
   "execution_count": 7,
   "id": "b4a2a703",
   "metadata": {},
   "outputs": [
    {
     "name": "stdout",
     "output_type": "stream",
     "text": [
      "4 0 2 3 1\n"
     ]
    }
   ],
   "source": [
    "# Tarjan algorithm\n",
    "def dfs(v, G, black, gray, order):\n",
    "    assert v not in black, \"strange situation. Should not happen.\"\n",
    "    if v in gray: # loop in the graph! Can't do topological sort\n",
    "        print(\"NO\")\n",
    "        exit(-1)\n",
    "    else:\n",
    "        gray.add(v)\n",
    "        for u in G[v]:\n",
    "            if u not in black:\n",
    "                dfs(u, G, black, gray, order)\n",
    "        gray.remove(v)\n",
    "        black.add(v)\n",
    "        order.append(v)\n",
    "\n",
    "order = []\n",
    "white = set(range(len(G)))\n",
    "black = set()\n",
    "while white:\n",
    "    v = white.pop()\n",
    "    dfs(v, G, black, set(), order)\n",
    "    white -= black\n",
    "print(' '.join(map(str, order[::-1])))"
   ]
  },
  {
   "cell_type": "markdown",
   "id": "1f2cd0b4",
   "metadata": {},
   "source": [
    "### Реализация алгоритма Косарайю выделения сильно связных компонент орграфа\n",
    "При считывании списка рёбер сохраним не только прямой граф, но и транспонированный (с обращённым направлением рёбер):"
   ]
  },
  {
   "cell_type": "code",
   "execution_count": 1,
   "id": "c5e7983c",
   "metadata": {},
   "outputs": [
    {
     "name": "stdout",
     "output_type": "stream",
     "text": [
      "5 7\n",
      "0 1\n",
      "0 2\n",
      "2 1\n",
      "4 3\n",
      "2 3\n",
      "4 2\n",
      "4 0\n"
     ]
    }
   ],
   "source": [
    "def input_graph():\n",
    "    n, m = map(int, input().split())\n",
    "    G = {k:set() for k in range(n)}\n",
    "    G_transposed = {k:set() for k in range(n)}\n",
    "    for i in range(m):\n",
    "        a, b = map(int, input().split())\n",
    "        G[a].add(b)\n",
    "        G_transposed[b].add(a)\n",
    "    return G, G_transposed\n",
    "\n",
    "G, G_transposed = input_graph()"
   ]
  },
  {
   "cell_type": "markdown",
   "id": "42f5792e",
   "metadata": {},
   "source": [
    "Теперь делаем серию обходов в глубину для транспонированного графа, сохраняя порядок выхода из вершин в списке `order`:"
   ]
  },
  {
   "cell_type": "code",
   "execution_count": 3,
   "id": "6d3da1e7",
   "metadata": {},
   "outputs": [
    {
     "name": "stdout",
     "output_type": "stream",
     "text": [
      "3 1 2 0 4\n"
     ]
    }
   ],
   "source": [
    "def dfs(v, G, gray, order):\n",
    "    gray.add(v)\n",
    "    for u in G[v]:\n",
    "        if u not in gray:\n",
    "            dfs(u, G, gray, order)\n",
    "    order.append(v)\n",
    "\n",
    "order = []\n",
    "white = set(G.keys())\n",
    "used = set()\n",
    "while white:\n",
    "    v = white.pop()\n",
    "    dfs(v, G_transposed, used, order)\n",
    "    white -= used\n",
    "print(' '.join(map(str, order[::-1])))"
   ]
  },
  {
   "cell_type": "markdown",
   "id": "c3fba832",
   "metadata": {},
   "source": [
    "Теперь, используя обратный порядок (как в стеке — очереди типа LIFO), совершим вторую серию обходов оригинального графа. Каждый раз, когда мы находим вершину, не пройденную предыдущими обходами, это значит, что мы нашли новую компоненту сильной связности. К ней, кроме найденной вершны, нужно прибавить все вершины, найденные этим обходом:"
   ]
  },
  {
   "cell_type": "code",
   "execution_count": 4,
   "id": "7b9fc896",
   "metadata": {},
   "outputs": [
    {
     "name": "stdout",
     "output_type": "stream",
     "text": [
      "component: {3}\n",
      "component: {1}\n",
      "component: {2}\n",
      "component: {0}\n",
      "component: {4}\n"
     ]
    }
   ],
   "source": [
    "def dfs2(v, G, gray, component):\n",
    "    gray.add(v)\n",
    "    component.add(v)\n",
    "    for u in G[v]:\n",
    "        if u not in gray:\n",
    "            dfs2(u, G, gray, component)\n",
    "\n",
    "# second part\n",
    "black = set()\n",
    "while len(black) != len(G):\n",
    "    v = order.pop()  # берём вершину с конца очереди (из стека)\n",
    "    while v in black:  # если вершина уже пройдена предыдущим обходом, то пропускаем её\n",
    "        v = order.pop()  # берём вершину с конца очереди (из стека)\n",
    "    component = set()\n",
    "    dfs2(v, G, black, component)\n",
    "    print(\"component:\", component)"
   ]
  },
  {
   "cell_type": "markdown",
   "id": "42fbd1e8",
   "metadata": {},
   "source": [
    "## Алгоритм Флойда-Уоршелла\n",
    "Это алгоритм поиска кратчайших путей во взвешенном графе с положительным или отрицательным весом ребер (но без отрицательных циклов). За одно выполнение алгоритма будут найдены длины (суммарные веса) кратчайших путей между всеми парами вершин. Хотя он не возвращает детали самих путей, можно реконструировать пути с помощью простых модификаций алгоритма.\n",
    "\n",
    "[Описание алгоритма Флойда в Википедии](https://ru.wikipedia.org/wiki/%D0%90%D0%BB%D0%B3%D0%BE%D1%80%D0%B8%D1%82%D0%BC_%D0%A4%D0%BB%D0%BE%D0%B9%D0%B4%D0%B0_%E2%80%94_%D0%A3%D0%BE%D1%80%D1%88%D0%B5%D0%BB%D0%BB%D0%B0#%D0%90%D0%BB%D0%B3%D0%BE%D1%80%D0%B8%D1%82%D0%BC)\n",
    "\n",
    "[Ролик с объяснением алгоритма Флойда](https://youtu.be/h5S_J43ga_k)\n",
    "\n",
    "[Статья в учебнике Фоксфорда про алгоритм Флойда с реализацией на Python](https://foxford.ru/wiki/informatika/algoritm-floyda)"
   ]
  },
  {
   "cell_type": "code",
   "execution_count": null,
   "id": "7d29bfab",
   "metadata": {},
   "outputs": [],
   "source": []
  }
 ],
 "metadata": {
  "kernelspec": {
   "display_name": "Python 3 (ipykernel)",
   "language": "python",
   "name": "python3"
  },
  "language_info": {
   "codemirror_mode": {
    "name": "ipython",
    "version": 3
   },
   "file_extension": ".py",
   "mimetype": "text/x-python",
   "name": "python",
   "nbconvert_exporter": "python",
   "pygments_lexer": "ipython3",
   "version": "3.11.2"
  },
  "vscode": {
   "interpreter": {
    "hash": "397704579725e15f5c7cb49fe5f0341eb7531c82d19f2c29d197e8b64ab5776b"
   }
  }
 },
 "nbformat": 4,
 "nbformat_minor": 5
}
