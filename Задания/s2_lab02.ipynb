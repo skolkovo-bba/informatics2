{
 "cells": [
  {
   "cell_type": "markdown",
   "id": "58d6b9b9",
   "metadata": {},
   "source": [
    "- title: Занятие 2\n",
    "- author: Kononov Dmitrij\n",
    "- date: 2023-02-08\n",
    "- test_link: http://olymp3.vdi.mipt.ru/cgi-bin/new-client?contest_id=10201\n",
    "- test_comment: Задание №1\n",
    "- slug: s2_lab02\n",
    "- ipynb_url: download/s2_lab02.ipynb"
   ]
  },
  {
   "cell_type": "markdown",
   "id": "ba9c4978",
   "metadata": {},
   "source": [
    "# Занятие 2:  Множества и словари в Python и асимптотика стандартных операций\n",
    "\n",
    "## Цель: Познакомиться с новыми структурами данных — множество (set) и словарь (dir)"
   ]
  },
  {
   "cell_type": "markdown",
   "id": "3ac3d5cf",
   "metadata": {},
   "source": [
    "# Введение\n",
    "Понятие сложности алгоритмов уже было рассмотрено в первом семестре, при рассмотрении алгоритмов, связанных с сортировками. В данной работе будет рассмотрена трудоемкость стандартных процедур в языке **Python** а так же рассмотрены две мощные концепциии - множество(`set`) и словарь(`dict`).\n",
    "\n",
    "Трудоемкость будет рассмотренна на примере встроенных методов и операций классов `dict` и `set`."
   ]
  },
  {
   "cell_type": "markdown",
   "id": "ed6cbbb9",
   "metadata": {},
   "source": [
    "# Множество (`set`)\n",
    "Множество в языке Python — это структура данных, эквивалентная множествам в математике. Элементы могут быть различных типов. Порядок элементов не определён.\n",
    "\n",
    "Действия, которые можно выполнять с множеством:\n",
    "\n",
    "1. Добавлять и удалять элементы;\n",
    "2. Проверять принадлежность элемента множеству;\n",
    "3. Перебирать его элементы;\n",
    "4. Выполнять операции над множествами (объединение, пересечение, разность).\n",
    "\n",
    "Операция “проверить принадлежность элемента” выполняется в множестве намного быстрее, чем в списке.\n",
    "\n",
    "Элементами множества может быть любой неизменяемый тип данных: числа, строки, кортежи.\n",
    "\n",
    "Изменяемые типы данных не могут быть элементами множества, в частности, нельзя сделать элементом множества список (вместо этого используйте неизменяемый кортеж) или другое множество. Требование неизменяемости элементов множества накладывается особенностями представления множества в памяти компьютера."
   ]
  },
  {
   "cell_type": "markdown",
   "id": "27362ab8",
   "metadata": {},
   "source": [
    "## Задание множеств\n",
    "Множество задается перечислением в фигурных скобках. Например:\n",
    "```python\n",
    "A = {1, 2, 3}\n",
    "```\n",
    "Исключением явлеется пустое множество:\n",
    "```python\n",
    "A = set()       # A -- множество\n",
    "D = {}          # D -- не пустое множество, а пустой словарь!\n",
    "```\n",
    "Если функции `set()` передать в качестве параметра список, строку или кортеж, то она вернет множество, составленное из элементов списка, строки, кортежа. Например (выполните код ниже):"
   ]
  },
  {
   "cell_type": "code",
   "execution_count": null,
   "id": "f428760c",
   "metadata": {},
   "outputs": [
    {
     "ename": "",
     "evalue": "",
     "output_type": "error",
     "traceback": [
      "\u001b[1;31mНе удалось запустить ядро. \n",
      "\u001b[1;31mJupyter server crashed. Unable to connect. \n",
      "\u001b[1;31mError code from Jupyter: 1\n",
      "\u001b[1;31musage: jupyter.py [-h] [--version] [--config-dir] [--data-dir] [--runtime-dir]\n",
      "\u001b[1;31m                  [--paths] [--json] [--debug]\n",
      "\u001b[1;31m                  [subcommand]\n",
      "\u001b[1;31m\n",
      "\u001b[1;31mJupyter: Interactive Computing\n",
      "\u001b[1;31m\n",
      "\u001b[1;31mpositional arguments:\n",
      "\u001b[1;31m  subcommand     the subcommand to launch\n",
      "\u001b[1;31m\n",
      "\u001b[1;31moptions:\n",
      "\u001b[1;31m  -h, --help     show this help message and exit\n",
      "\u001b[1;31m  --version      show the versions of core jupyter packages and exit\n",
      "\u001b[1;31m  --config-dir   show Jupyter config dir\n",
      "\u001b[1;31m  --data-dir     show Jupyter data dir\n",
      "\u001b[1;31m  --runtime-dir  show Jupyter runtime dir\n",
      "\u001b[1;31m  --paths        show all Jupyter paths. Add --json for machine-readable\n",
      "\u001b[1;31m                 format.\n",
      "\u001b[1;31m  --json         output paths as machine-readable json\n",
      "\u001b[1;31m  --debug        output debug information about paths\n",
      "\u001b[1;31m\n",
      "\u001b[1;31mAvailable subcommands:\n",
      "\u001b[1;31m\n",
      "\u001b[1;31mJupyter command `jupyter-notebook` not found. \n",
      "\u001b[1;31mПодробнее см. в <a href='command:jupyter.viewOutput'>журнале Jupyter</a>."
     ]
    }
   ],
   "source": [
    "A = set('qwerty')\n",
    "print(A)"
   ]
  },
  {
   "cell_type": "markdown",
   "id": "a1f03283",
   "metadata": {},
   "source": [
    "Каждый элемент может входить в множество только один раз.\n",
    "Выполните код ниже:"
   ]
  },
  {
   "cell_type": "code",
   "execution_count": null,
   "id": "56d3ba26",
   "metadata": {},
   "outputs": [
    {
     "ename": "",
     "evalue": "",
     "output_type": "error",
     "traceback": [
      "\u001b[1;31mНе удалось запустить ядро. \n",
      "\u001b[1;31mJupyter server crashed. Unable to connect. \n",
      "\u001b[1;31mError code from Jupyter: 1\n",
      "\u001b[1;31musage: jupyter.py [-h] [--version] [--config-dir] [--data-dir] [--runtime-dir]\n",
      "\u001b[1;31m                  [--paths] [--json] [--debug]\n",
      "\u001b[1;31m                  [subcommand]\n",
      "\u001b[1;31m\n",
      "\u001b[1;31mJupyter: Interactive Computing\n",
      "\u001b[1;31m\n",
      "\u001b[1;31mpositional arguments:\n",
      "\u001b[1;31m  subcommand     the subcommand to launch\n",
      "\u001b[1;31m\n",
      "\u001b[1;31moptions:\n",
      "\u001b[1;31m  -h, --help     show this help message and exit\n",
      "\u001b[1;31m  --version      show the versions of core jupyter packages and exit\n",
      "\u001b[1;31m  --config-dir   show Jupyter config dir\n",
      "\u001b[1;31m  --data-dir     show Jupyter data dir\n",
      "\u001b[1;31m  --runtime-dir  show Jupyter runtime dir\n",
      "\u001b[1;31m  --paths        show all Jupyter paths. Add --json for machine-readable\n",
      "\u001b[1;31m                 format.\n",
      "\u001b[1;31m  --json         output paths as machine-readable json\n",
      "\u001b[1;31m  --debug        output debug information about paths\n",
      "\u001b[1;31m\n",
      "\u001b[1;31mAvailable subcommands:\n",
      "\u001b[1;31m\n",
      "\u001b[1;31mJupyter command `jupyter-notebook` not found. \n",
      "\u001b[1;31mПодробнее см. в <a href='command:jupyter.viewOutput'>журнале Jupyter</a>."
     ]
    }
   ],
   "source": [
    "A = {1, 2, 3}\n",
    "B = {3, 2, 3, 1}\n",
    "print(A == B) # A и B — равные множества."
   ]
  },
  {
   "cell_type": "code",
   "execution_count": null,
   "id": "378a1fa9",
   "metadata": {},
   "outputs": [
    {
     "ename": "",
     "evalue": "",
     "output_type": "error",
     "traceback": [
      "\u001b[1;31mНе удалось запустить ядро. \n",
      "\u001b[1;31mJupyter server crashed. Unable to connect. \n",
      "\u001b[1;31mError code from Jupyter: 1\n",
      "\u001b[1;31musage: jupyter.py [-h] [--version] [--config-dir] [--data-dir] [--runtime-dir]\n",
      "\u001b[1;31m                  [--paths] [--json] [--debug]\n",
      "\u001b[1;31m                  [subcommand]\n",
      "\u001b[1;31m\n",
      "\u001b[1;31mJupyter: Interactive Computing\n",
      "\u001b[1;31m\n",
      "\u001b[1;31mpositional arguments:\n",
      "\u001b[1;31m  subcommand     the subcommand to launch\n",
      "\u001b[1;31m\n",
      "\u001b[1;31moptions:\n",
      "\u001b[1;31m  -h, --help     show this help message and exit\n",
      "\u001b[1;31m  --version      show the versions of core jupyter packages and exit\n",
      "\u001b[1;31m  --config-dir   show Jupyter config dir\n",
      "\u001b[1;31m  --data-dir     show Jupyter data dir\n",
      "\u001b[1;31m  --runtime-dir  show Jupyter runtime dir\n",
      "\u001b[1;31m  --paths        show all Jupyter paths. Add --json for machine-readable\n",
      "\u001b[1;31m                 format.\n",
      "\u001b[1;31m  --json         output paths as machine-readable json\n",
      "\u001b[1;31m  --debug        output debug information about paths\n",
      "\u001b[1;31m\n",
      "\u001b[1;31mAvailable subcommands:\n",
      "\u001b[1;31m\n",
      "\u001b[1;31mJupyter command `jupyter-notebook` not found. \n",
      "\u001b[1;31mПодробнее см. в <a href='command:jupyter.viewOutput'>журнале Jupyter</a>."
     ]
    }
   ],
   "source": [
    "set('Hello')"
   ]
  },
  {
   "cell_type": "markdown",
   "id": "70e0a509",
   "metadata": {},
   "source": [
    "## Работа с элементами множеств\n",
    "\n",
    "|Операция    |Значение                                                            |Трудоемкость|\n",
    "|------------|--------------------------------------------------------------------|------------|\n",
    "|x in A      |принадлежит ли элемент x множеству A (возвращают значение типа bool)|  $O(1)$    |\n",
    "|x not in A  |то же, что not x in A                                               |  $O(1)$    |\n",
    "|A.add(x)    |добавить элемент x в множество A                                    |  $O(1)$    |\n",
    "|A.discard(x)|удалить элемент x из множества A                                    |  $O(1)$    |\n",
    "|A.remove(x) |удалить элемент x из множества A                                    |  $O(1)$    |\n",
    "|A.pop()\t |удаляет из множества один случайный элемент и возвращает его        |  $O(1)$    |\n",
    "\n",
    "Как мы видим, по времени стандартные оперцаии с одним элементом множества выполняются за $O(1)$.\n",
    "\n",
    "Поведение `discard()` и `remove()` различается тогда, когда удаляемый элемент отсутствует в множестве: `discard()` не делает ничего, а метод `remove()` генерирует исключение `KeyError`. Метод `pop()` также генерирует исключение `KeyError`, если множество пусто.\n",
    "\n",
    "При помощи цикла `for` можно перебрать все элементы множества:\n",
    "```python\n",
    "Primes = {2, 3, 5, 7, 11}\n",
    "for num im Primes:\n",
    "    print(num)\n",
    "```\n",
    "Из множества можно сделать список при помощи функции `list()` (выполните код в ячейке ниже):"
   ]
  },
  {
   "cell_type": "code",
   "execution_count": null,
   "id": "0417d982",
   "metadata": {},
   "outputs": [
    {
     "ename": "",
     "evalue": "",
     "output_type": "error",
     "traceback": [
      "\u001b[1;31mНе удалось запустить ядро. \n",
      "\u001b[1;31mJupyter server crashed. Unable to connect. \n",
      "\u001b[1;31mError code from Jupyter: 1\n",
      "\u001b[1;31musage: jupyter.py [-h] [--version] [--config-dir] [--data-dir] [--runtime-dir]\n",
      "\u001b[1;31m                  [--paths] [--json] [--debug]\n",
      "\u001b[1;31m                  [subcommand]\n",
      "\u001b[1;31m\n",
      "\u001b[1;31mJupyter: Interactive Computing\n",
      "\u001b[1;31m\n",
      "\u001b[1;31mpositional arguments:\n",
      "\u001b[1;31m  subcommand     the subcommand to launch\n",
      "\u001b[1;31m\n",
      "\u001b[1;31moptions:\n",
      "\u001b[1;31m  -h, --help     show this help message and exit\n",
      "\u001b[1;31m  --version      show the versions of core jupyter packages and exit\n",
      "\u001b[1;31m  --config-dir   show Jupyter config dir\n",
      "\u001b[1;31m  --data-dir     show Jupyter data dir\n",
      "\u001b[1;31m  --runtime-dir  show Jupyter runtime dir\n",
      "\u001b[1;31m  --paths        show all Jupyter paths. Add --json for machine-readable\n",
      "\u001b[1;31m                 format.\n",
      "\u001b[1;31m  --json         output paths as machine-readable json\n",
      "\u001b[1;31m  --debug        output debug information about paths\n",
      "\u001b[1;31m\n",
      "\u001b[1;31mAvailable subcommands:\n",
      "\u001b[1;31m\n",
      "\u001b[1;31mJupyter command `jupyter-notebook` not found. \n",
      "\u001b[1;31mПодробнее см. в <a href='command:jupyter.viewOutput'>журнале Jupyter</a>."
     ]
    }
   ],
   "source": [
    "A = {1, 2, 3, 4, 5}\n",
    "B = list(A)"
   ]
  },
  {
   "cell_type": "markdown",
   "id": "216d34b1",
   "metadata": {},
   "source": [
    "**Задание 1** — Вывести на экран все элементы множества A, которых нет в множестве B:"
   ]
  },
  {
   "cell_type": "code",
   "execution_count": null,
   "id": "7b93140e",
   "metadata": {},
   "outputs": [
    {
     "ename": "",
     "evalue": "",
     "output_type": "error",
     "traceback": [
      "\u001b[1;31mНе удалось запустить ядро. \n",
      "\u001b[1;31mJupyter server crashed. Unable to connect. \n",
      "\u001b[1;31mError code from Jupyter: 1\n",
      "\u001b[1;31musage: jupyter.py [-h] [--version] [--config-dir] [--data-dir] [--runtime-dir]\n",
      "\u001b[1;31m                  [--paths] [--json] [--debug]\n",
      "\u001b[1;31m                  [subcommand]\n",
      "\u001b[1;31m\n",
      "\u001b[1;31mJupyter: Interactive Computing\n",
      "\u001b[1;31m\n",
      "\u001b[1;31mpositional arguments:\n",
      "\u001b[1;31m  subcommand     the subcommand to launch\n",
      "\u001b[1;31m\n",
      "\u001b[1;31moptions:\n",
      "\u001b[1;31m  -h, --help     show this help message and exit\n",
      "\u001b[1;31m  --version      show the versions of core jupyter packages and exit\n",
      "\u001b[1;31m  --config-dir   show Jupyter config dir\n",
      "\u001b[1;31m  --data-dir     show Jupyter data dir\n",
      "\u001b[1;31m  --runtime-dir  show Jupyter runtime dir\n",
      "\u001b[1;31m  --paths        show all Jupyter paths. Add --json for machine-readable\n",
      "\u001b[1;31m                 format.\n",
      "\u001b[1;31m  --json         output paths as machine-readable json\n",
      "\u001b[1;31m  --debug        output debug information about paths\n",
      "\u001b[1;31m\n",
      "\u001b[1;31mAvailable subcommands:\n",
      "\u001b[1;31m\n",
      "\u001b[1;31mJupyter command `jupyter-notebook` not found. \n",
      "\u001b[1;31mПодробнее см. в <a href='command:jupyter.viewOutput'>журнале Jupyter</a>."
     ]
    }
   ],
   "source": [
    "A = set('bqlpzlkwehrlulsdhfliuywemrlkjhsdlfjhlzxcovt')\n",
    "B = set('zmxcvnboaiyerjhbziuxdytvasenbriutsdvinjhgik')\n",
    "for x in A:\n",
    "    #fix me"
   ]
  },
  {
   "cell_type": "markdown",
   "id": "259dea34",
   "metadata": {},
   "source": [
    "## Операции с множествами, обычные для математики\n",
    "|Операция|\tЗначение|\tТрудоемкость|\n",
    "|--------|----------|---------------| \t \t \n",
    "|A \\| B A.union(B)|\tВозвращает множество, являющееся объединением множеств A и B.|\tO(len(A)+len(B))|\n",
    "|A \\| = B A.update(B)|\tЗаписывает в A объединение множеств A и B.|\tO(len(A)+len(B))|\n",
    "|A & B A.intersection(B)|\tВозвращает множество, являющееся пересечением множеств A и B.|\tO(min(len(A), len(B))|\n",
    "|A &= B A.intersection_update(B)|\tЗаписывает в A пересечение множеств A и B.|\tO(min(len(A), len(B))|\n",
    "|A - B A.difference(B)|\tВозвращает разность множеств A и B (элементы, входящие в A, но не входящие в B).|\tO(len(A)+len(B))|\n",
    "|A -= B A.difference_update(B)|\tЗаписывает в A разность множеств A и B.|\tO(len(A)+len(B))|\n",
    "|A ^ B A.symmetric_difference(B)|\tВозвращает симметрическую разность множеств A и B (элементы, входящие в A или в B, но не в оба из них одновременно).|\tO(len(A)+len(B))|\n",
    "|A ^= B A.symmetric_difference_update(B)|\tЗаписывает в A симметрическую разность множеств A и B.|\tO(len(A)+len(B))|\n",
    "|A <= B A.issubset(B)|\tВозвращает True, если A является подмножеством B.|\tO(len(A))|\n",
    "|A >= B A.issuperset(B)|\tВозвращает True, если B является подмножеством A.|\tO(len(B))|\n",
    "|A < B|\tЭквивалентно A <= B and A != B.|\tO(len(A))|\n",
    "|A > B|\tЭквивалентно A >= B and A != B.|\tO(len(B))|\n",
    "\n",
    "В случае, если нужно провести процедуру, затрагивающую все элементы множества, то его трудоемкость будет O(N)."
   ]
  },
  {
   "cell_type": "markdown",
   "id": "51161cf7",
   "metadata": {},
   "source": [
    "**Задание 2** — Даны четыре множества:\n",
    "```python\n",
    "A = set('0123456789')\n",
    "B = set('02468')\n",
    "C = set('12345')\n",
    "D = set('56789')\n",
    "```\n",
    "Найти элементы, принадлежащие множеству $E = ((A\\backslash B) \\cap (C\\backslash D)) \\cup ((D\\backslash A) \\cap (B\\backslash C))$"
   ]
  },
  {
   "cell_type": "markdown",
   "id": "b3203a47",
   "metadata": {},
   "source": [
    "# Словарь (ассоциативный массив, `dict`)\n",
    "В массиве или в списке индекс - это целое число. Традиционной является следующая ситуация:"
   ]
  },
  {
   "cell_type": "code",
   "execution_count": null,
   "id": "cdb37254",
   "metadata": {},
   "outputs": [
    {
     "ename": "",
     "evalue": "",
     "output_type": "error",
     "traceback": [
      "\u001b[1;31mНе удалось запустить ядро. \n",
      "\u001b[1;31mJupyter server crashed. Unable to connect. \n",
      "\u001b[1;31mError code from Jupyter: 1\n",
      "\u001b[1;31musage: jupyter.py [-h] [--version] [--config-dir] [--data-dir] [--runtime-dir]\n",
      "\u001b[1;31m                  [--paths] [--json] [--debug]\n",
      "\u001b[1;31m                  [subcommand]\n",
      "\u001b[1;31m\n",
      "\u001b[1;31mJupyter: Interactive Computing\n",
      "\u001b[1;31m\n",
      "\u001b[1;31mpositional arguments:\n",
      "\u001b[1;31m  subcommand     the subcommand to launch\n",
      "\u001b[1;31m\n",
      "\u001b[1;31moptions:\n",
      "\u001b[1;31m  -h, --help     show this help message and exit\n",
      "\u001b[1;31m  --version      show the versions of core jupyter packages and exit\n",
      "\u001b[1;31m  --config-dir   show Jupyter config dir\n",
      "\u001b[1;31m  --data-dir     show Jupyter data dir\n",
      "\u001b[1;31m  --runtime-dir  show Jupyter runtime dir\n",
      "\u001b[1;31m  --paths        show all Jupyter paths. Add --json for machine-readable\n",
      "\u001b[1;31m                 format.\n",
      "\u001b[1;31m  --json         output paths as machine-readable json\n",
      "\u001b[1;31m  --debug        output debug information about paths\n",
      "\u001b[1;31m\n",
      "\u001b[1;31mAvailable subcommands:\n",
      "\u001b[1;31m\n",
      "\u001b[1;31mJupyter command `jupyter-notebook` not found. \n",
      "\u001b[1;31mПодробнее см. в <a href='command:jupyter.viewOutput'>журнале Jupyter</a>."
     ]
    }
   ],
   "source": [
    "Days = ['Sunday', 'Monday', 'Tuesday', 'Wednessday', 'Thursday', 'Friday', 'Saturday']\n",
    "Days[0]"
   ]
  },
  {
   "cell_type": "code",
   "execution_count": null,
   "id": "3df916d5",
   "metadata": {},
   "outputs": [
    {
     "ename": "",
     "evalue": "",
     "output_type": "error",
     "traceback": [
      "\u001b[1;31mНе удалось запустить ядро. \n",
      "\u001b[1;31mJupyter server crashed. Unable to connect. \n",
      "\u001b[1;31mError code from Jupyter: 1\n",
      "\u001b[1;31musage: jupyter.py [-h] [--version] [--config-dir] [--data-dir] [--runtime-dir]\n",
      "\u001b[1;31m                  [--paths] [--json] [--debug]\n",
      "\u001b[1;31m                  [subcommand]\n",
      "\u001b[1;31m\n",
      "\u001b[1;31mJupyter: Interactive Computing\n",
      "\u001b[1;31m\n",
      "\u001b[1;31mpositional arguments:\n",
      "\u001b[1;31m  subcommand     the subcommand to launch\n",
      "\u001b[1;31m\n",
      "\u001b[1;31moptions:\n",
      "\u001b[1;31m  -h, --help     show this help message and exit\n",
      "\u001b[1;31m  --version      show the versions of core jupyter packages and exit\n",
      "\u001b[1;31m  --config-dir   show Jupyter config dir\n",
      "\u001b[1;31m  --data-dir     show Jupyter data dir\n",
      "\u001b[1;31m  --runtime-dir  show Jupyter runtime dir\n",
      "\u001b[1;31m  --paths        show all Jupyter paths. Add --json for machine-readable\n",
      "\u001b[1;31m                 format.\n",
      "\u001b[1;31m  --json         output paths as machine-readable json\n",
      "\u001b[1;31m  --debug        output debug information about paths\n",
      "\u001b[1;31m\n",
      "\u001b[1;31mAvailable subcommands:\n",
      "\u001b[1;31m\n",
      "\u001b[1;31mJupyter command `jupyter-notebook` not found. \n",
      "\u001b[1;31mПодробнее см. в <a href='command:jupyter.viewOutput'>журнале Jupyter</a>."
     ]
    }
   ],
   "source": [
    "Days[1]"
   ]
  },
  {
   "cell_type": "markdown",
   "id": "05c8f8f8",
   "metadata": {},
   "source": [
    "А как реализовать обратное соответствие?\n",
    "```python\n",
    ">>> Days['Sunday']\n",
    "0\n",
    ">>> Days['Monday']\n",
    "1\n",
    "```"
   ]
  },
  {
   "cell_type": "markdown",
   "id": "3834c099",
   "metadata": {},
   "source": [
    "При помощи списка или массива это сделать невозможно, нужно использовать ассоциативный массив или словарь.\n",
    "\n",
    "В словаре индекс может быть любого неизменяемого типа! Индексы, как и сами хранимые значения, задаются явно:"
   ]
  },
  {
   "cell_type": "code",
   "execution_count": null,
   "id": "70743ee2",
   "metadata": {},
   "outputs": [
    {
     "ename": "",
     "evalue": "",
     "output_type": "error",
     "traceback": [
      "\u001b[1;31mНе удалось запустить ядро. \n",
      "\u001b[1;31mJupyter server crashed. Unable to connect. \n",
      "\u001b[1;31mError code from Jupyter: 1\n",
      "\u001b[1;31musage: jupyter.py [-h] [--version] [--config-dir] [--data-dir] [--runtime-dir]\n",
      "\u001b[1;31m                  [--paths] [--json] [--debug]\n",
      "\u001b[1;31m                  [subcommand]\n",
      "\u001b[1;31m\n",
      "\u001b[1;31mJupyter: Interactive Computing\n",
      "\u001b[1;31m\n",
      "\u001b[1;31mpositional arguments:\n",
      "\u001b[1;31m  subcommand     the subcommand to launch\n",
      "\u001b[1;31m\n",
      "\u001b[1;31moptions:\n",
      "\u001b[1;31m  -h, --help     show this help message and exit\n",
      "\u001b[1;31m  --version      show the versions of core jupyter packages and exit\n",
      "\u001b[1;31m  --config-dir   show Jupyter config dir\n",
      "\u001b[1;31m  --data-dir     show Jupyter data dir\n",
      "\u001b[1;31m  --runtime-dir  show Jupyter runtime dir\n",
      "\u001b[1;31m  --paths        show all Jupyter paths. Add --json for machine-readable\n",
      "\u001b[1;31m                 format.\n",
      "\u001b[1;31m  --json         output paths as machine-readable json\n",
      "\u001b[1;31m  --debug        output debug information about paths\n",
      "\u001b[1;31m\n",
      "\u001b[1;31mAvailable subcommands:\n",
      "\u001b[1;31m\n",
      "\u001b[1;31mJupyter command `jupyter-notebook` not found. \n",
      "\u001b[1;31mПодробнее см. в <a href='command:jupyter.viewOutput'>журнале Jupyter</a>."
     ]
    }
   ],
   "source": [
    "Days = {\n",
    "    'Sunday': 0,\n",
    "    'Monday': 1,\n",
    "    'Tuesday': 2,\n",
    "    'Wednessday': 3,\n",
    "    'Thursday': 4,\n",
    "    'Friday': 5,\n",
    "    'Saturday': 6\n",
    "}\n",
    "Days['Sunday']"
   ]
  },
  {
   "cell_type": "code",
   "execution_count": null,
   "id": "63ecb637",
   "metadata": {},
   "outputs": [
    {
     "ename": "",
     "evalue": "",
     "output_type": "error",
     "traceback": [
      "\u001b[1;31mНе удалось запустить ядро. \n",
      "\u001b[1;31mJupyter server crashed. Unable to connect. \n",
      "\u001b[1;31mError code from Jupyter: 1\n",
      "\u001b[1;31musage: jupyter.py [-h] [--version] [--config-dir] [--data-dir] [--runtime-dir]\n",
      "\u001b[1;31m                  [--paths] [--json] [--debug]\n",
      "\u001b[1;31m                  [subcommand]\n",
      "\u001b[1;31m\n",
      "\u001b[1;31mJupyter: Interactive Computing\n",
      "\u001b[1;31m\n",
      "\u001b[1;31mpositional arguments:\n",
      "\u001b[1;31m  subcommand     the subcommand to launch\n",
      "\u001b[1;31m\n",
      "\u001b[1;31moptions:\n",
      "\u001b[1;31m  -h, --help     show this help message and exit\n",
      "\u001b[1;31m  --version      show the versions of core jupyter packages and exit\n",
      "\u001b[1;31m  --config-dir   show Jupyter config dir\n",
      "\u001b[1;31m  --data-dir     show Jupyter data dir\n",
      "\u001b[1;31m  --runtime-dir  show Jupyter runtime dir\n",
      "\u001b[1;31m  --paths        show all Jupyter paths. Add --json for machine-readable\n",
      "\u001b[1;31m                 format.\n",
      "\u001b[1;31m  --json         output paths as machine-readable json\n",
      "\u001b[1;31m  --debug        output debug information about paths\n",
      "\u001b[1;31m\n",
      "\u001b[1;31mAvailable subcommands:\n",
      "\u001b[1;31m\n",
      "\u001b[1;31mJupyter command `jupyter-notebook` not found. \n",
      "\u001b[1;31mПодробнее см. в <a href='command:jupyter.viewOutput'>журнале Jupyter</a>."
     ]
    }
   ],
   "source": [
    "Days['Sunday']"
   ]
  },
  {
   "cell_type": "code",
   "execution_count": null,
   "id": "8f6e8721",
   "metadata": {},
   "outputs": [
    {
     "ename": "",
     "evalue": "",
     "output_type": "error",
     "traceback": [
      "\u001b[1;31mНе удалось запустить ядро. \n",
      "\u001b[1;31mJupyter server crashed. Unable to connect. \n",
      "\u001b[1;31mError code from Jupyter: 1\n",
      "\u001b[1;31musage: jupyter.py [-h] [--version] [--config-dir] [--data-dir] [--runtime-dir]\n",
      "\u001b[1;31m                  [--paths] [--json] [--debug]\n",
      "\u001b[1;31m                  [subcommand]\n",
      "\u001b[1;31m\n",
      "\u001b[1;31mJupyter: Interactive Computing\n",
      "\u001b[1;31m\n",
      "\u001b[1;31mpositional arguments:\n",
      "\u001b[1;31m  subcommand     the subcommand to launch\n",
      "\u001b[1;31m\n",
      "\u001b[1;31moptions:\n",
      "\u001b[1;31m  -h, --help     show this help message and exit\n",
      "\u001b[1;31m  --version      show the versions of core jupyter packages and exit\n",
      "\u001b[1;31m  --config-dir   show Jupyter config dir\n",
      "\u001b[1;31m  --data-dir     show Jupyter data dir\n",
      "\u001b[1;31m  --runtime-dir  show Jupyter runtime dir\n",
      "\u001b[1;31m  --paths        show all Jupyter paths. Add --json for machine-readable\n",
      "\u001b[1;31m                 format.\n",
      "\u001b[1;31m  --json         output paths as machine-readable json\n",
      "\u001b[1;31m  --debug        output debug information about paths\n",
      "\u001b[1;31m\n",
      "\u001b[1;31mAvailable subcommands:\n",
      "\u001b[1;31m\n",
      "\u001b[1;31mJupyter command `jupyter-notebook` not found. \n",
      "\u001b[1;31mПодробнее см. в <a href='command:jupyter.viewOutput'>журнале Jupyter</a>."
     ]
    }
   ],
   "source": [
    "Days['Yesterday']"
   ]
  },
  {
   "cell_type": "markdown",
   "id": "b6607321",
   "metadata": {},
   "source": [
    "При попытке обратиться к несуществующему элементу ассоциативного массива мы получаем исключение `KeyError`.\n",
    "\n",
    "Особенностью ассоциативного массива является его динамичность: в него можно добавлять новые элементы с произвольными ключами и удалять уже существующие элементы."
   ]
  },
  {
   "cell_type": "code",
   "execution_count": null,
   "id": "881d33b1",
   "metadata": {},
   "outputs": [
    {
     "ename": "",
     "evalue": "",
     "output_type": "error",
     "traceback": [
      "\u001b[1;31mНе удалось запустить ядро. \n",
      "\u001b[1;31mJupyter server crashed. Unable to connect. \n",
      "\u001b[1;31mError code from Jupyter: 1\n",
      "\u001b[1;31musage: jupyter.py [-h] [--version] [--config-dir] [--data-dir] [--runtime-dir]\n",
      "\u001b[1;31m                  [--paths] [--json] [--debug]\n",
      "\u001b[1;31m                  [subcommand]\n",
      "\u001b[1;31m\n",
      "\u001b[1;31mJupyter: Interactive Computing\n",
      "\u001b[1;31m\n",
      "\u001b[1;31mpositional arguments:\n",
      "\u001b[1;31m  subcommand     the subcommand to launch\n",
      "\u001b[1;31m\n",
      "\u001b[1;31moptions:\n",
      "\u001b[1;31m  -h, --help     show this help message and exit\n",
      "\u001b[1;31m  --version      show the versions of core jupyter packages and exit\n",
      "\u001b[1;31m  --config-dir   show Jupyter config dir\n",
      "\u001b[1;31m  --data-dir     show Jupyter data dir\n",
      "\u001b[1;31m  --runtime-dir  show Jupyter runtime dir\n",
      "\u001b[1;31m  --paths        show all Jupyter paths. Add --json for machine-readable\n",
      "\u001b[1;31m                 format.\n",
      "\u001b[1;31m  --json         output paths as machine-readable json\n",
      "\u001b[1;31m  --debug        output debug information about paths\n",
      "\u001b[1;31m\n",
      "\u001b[1;31mAvailable subcommands:\n",
      "\u001b[1;31m\n",
      "\u001b[1;31mJupyter command `jupyter-notebook` not found. \n",
      "\u001b[1;31mПодробнее см. в <a href='command:jupyter.viewOutput'>журнале Jupyter</a>."
     ]
    }
   ],
   "source": [
    "Days['Yesterday'] = -1\n",
    "print(Days['Yesterday'])"
   ]
  },
  {
   "cell_type": "markdown",
   "id": "5fdf4c12",
   "metadata": {},
   "source": [
    "При этом размер используемой памяти пропорционален размеру ассоциативного массива. Доступ к элементам ассоциативного массива выполняется хоть и медленнее, чем к обычным массивам, но в целом довольно быстро.\n",
    "\n",
    "Значения ключей **уникальны**, двух одинаковых ключей в словаре быть не может. А вот значения могут быть одинаковыми."
   ]
  },
  {
   "cell_type": "code",
   "execution_count": null,
   "id": "f37598c4",
   "metadata": {},
   "outputs": [
    {
     "ename": "",
     "evalue": "",
     "output_type": "error",
     "traceback": [
      "\u001b[1;31mНе удалось запустить ядро. \n",
      "\u001b[1;31mJupyter server crashed. Unable to connect. \n",
      "\u001b[1;31mError code from Jupyter: 1\n",
      "\u001b[1;31musage: jupyter.py [-h] [--version] [--config-dir] [--data-dir] [--runtime-dir]\n",
      "\u001b[1;31m                  [--paths] [--json] [--debug]\n",
      "\u001b[1;31m                  [subcommand]\n",
      "\u001b[1;31m\n",
      "\u001b[1;31mJupyter: Interactive Computing\n",
      "\u001b[1;31m\n",
      "\u001b[1;31mpositional arguments:\n",
      "\u001b[1;31m  subcommand     the subcommand to launch\n",
      "\u001b[1;31m\n",
      "\u001b[1;31moptions:\n",
      "\u001b[1;31m  -h, --help     show this help message and exit\n",
      "\u001b[1;31m  --version      show the versions of core jupyter packages and exit\n",
      "\u001b[1;31m  --config-dir   show Jupyter config dir\n",
      "\u001b[1;31m  --data-dir     show Jupyter data dir\n",
      "\u001b[1;31m  --runtime-dir  show Jupyter runtime dir\n",
      "\u001b[1;31m  --paths        show all Jupyter paths. Add --json for machine-readable\n",
      "\u001b[1;31m                 format.\n",
      "\u001b[1;31m  --json         output paths as machine-readable json\n",
      "\u001b[1;31m  --debug        output debug information about paths\n",
      "\u001b[1;31m\n",
      "\u001b[1;31mAvailable subcommands:\n",
      "\u001b[1;31m\n",
      "\u001b[1;31mJupyter command `jupyter-notebook` not found. \n",
      "\u001b[1;31mПодробнее см. в <a href='command:jupyter.viewOutput'>журнале Jupyter</a>."
     ]
    }
   ],
   "source": [
    "Days['Tomorrow'] = -1\n",
    "Days['Yesterday'] == Days['Tomorrow']"
   ]
  },
  {
   "cell_type": "markdown",
   "id": "ea3c14c4",
   "metadata": {},
   "source": [
    "Ключом может быть произвольный **неизменяемый** тип данных: целые и действительные числа, строки, кортежи. Ключом в словаре не может быть множество, но может быть элемент типа frozenset: специальный тип данных, являющийся аналогом типа set, который нельзя изменять после создания. Значением элемента словаря может быть любой тип данных, в том числе и изменяемый."
   ]
  },
  {
   "cell_type": "markdown",
   "id": "ca48d370",
   "metadata": {},
   "source": [
    "## Создание словаря\n",
    "Пустой словарь можно создать при помощи функции `dict()` или пустой пары фигурных скобок {} (вот почему фигурные скобки нельзя использовать для создания пустого множества).\n",
    "\n",
    "Для создания словаря с некоторым набором начальных значений можно использовать следующие конструкции:\n",
    "```python\n",
    "Capitals = {'Russia': 'Moscow', 'Ukraine': 'Kiev', 'USA': 'Washington'}\n",
    "Capitals = dict(Russia = 'Moscow', Ukraine = 'Kiev', USA = 'Washington')\n",
    "Capitals = dict([(\"Russia\", \"Moscow\"), (\"Ukraine\", \"Kiev\"), (\"USA\", \"Washington\")])\n",
    "Capitals = dict(zip([\"Russia\", \"Ukraine\", \"USA\"], [\"Moscow\", \"Kiev\", \"Washington\"]))\n",
    "```\n",
    "Также можно использовать генерацию словаря через Dict comprehensions:\n",
    "```python\n",
    "Cities = [\"Moscow\", \"Kiev\", \"Washington\"]\n",
    "States = [\"Russia\", \"Ukraine\", \"USA\"]\n",
    "CapitalsOfState = {state: city for city, state in zip(Cities, States)}\n",
    "```\n",
    "Это особенно полезно, когда нужно \"вывернуть\" словарь наизнанку:\n",
    "```python\n",
    "StateByCapital = {CapitalsOfState[state]: state for state in CapitalsOfState}\n",
    "```"
   ]
  },
  {
   "cell_type": "markdown",
   "id": "d8ce2173",
   "metadata": {},
   "source": [
    "## Операции с элементами словарей\n",
    "|Операция|\tЗначение|\tТрудоемкость|\n",
    "|--------|----------|---------------|\n",
    "|value = A[key]|\tПолучение элемента по ключу. Если элемента с заданным ключом в словаре нет, то возникает исключение KeyError.|\tO(1)|\n",
    "|value = A.get(key)|\tПолучение элемента по ключу. Если элемента в словаре нет, то get возвращает None.|\tO(1)|\n",
    "|value = A.get(key, default_value)|\tТо же, но вместо None метод get возвращает default_value.|\tO(1)|\n",
    "|key in A|\tПроверить принадлежность ключа словарю.|\tO(1)|\n",
    "|key not in A|\tТо же, что not key in A.|\tO(1)|\n",
    "|A[key] = value|\tДобавление нового элемента в словарь.|\tO(1)|\n",
    "|del A[key]|\tУдаление пары ключ-значение с ключом key. Возбуждает исключение KeyError, если такого ключа нет.|\tO(1)|\n",
    "|if key in A: del A[key]| Удаление пары ключ-значение с предварительной проверкой наличия ключа.|\tO(1)|\n",
    "|try: |Удаление пары ключ-значение с перехватыванием и обработкой исключения.|\tO(1)|\n",
    "    del A[key]\n",
    " except KeyError:\n",
    "    pass\n",
    "|value = A.pop(key)|\tУдаление пары ключ-значение с ключом key и возврат значения удаляемого элемента.Если такого ключа нет, то возбуждается KeyError.|\tO(1)\n",
    "|value = A.pop(key, default_value)|\tТо же, но вместо генерации исключения возвращается default_value.|\tO(1)|\n",
    "|A.pop(key, None)|\tЭто позволяет проще всего организовать безопасное удаление элемента из словаря.|\tO(1)|\n",
    "|len(A)|\tВозвращает количество пар ключ-значение, хранящихся в словаре.|\tO(1)|"
   ]
  },
  {
   "cell_type": "markdown",
   "id": "61d39424",
   "metadata": {},
   "source": [
    "### Перебор элементов словаря по ключу\n",
    "```python\n",
    "for key in A:\n",
    "    print(key, A[key])\n",
    "```"
   ]
  },
  {
   "cell_type": "markdown",
   "id": "85971dad",
   "metadata": {},
   "source": [
    "### Представления элементов словаря\n",
    "Представления во многом похожи на списки, но они остаются связанными со своим исходным словарём и изменяются, если менять значения элементов словаря.\n",
    "\n",
    "* Метод `keys()` возвращает представление ключей всех элементов.\n",
    "* Метод `values()` возвращает представление всех значений.\n",
    "* Метод `items()` возвращает представление всех пар (кортежей) из ключей и значений."
   ]
  },
  {
   "cell_type": "code",
   "execution_count": null,
   "id": "21b4da15",
   "metadata": {},
   "outputs": [
    {
     "ename": "",
     "evalue": "",
     "output_type": "error",
     "traceback": [
      "\u001b[1;31mНе удалось запустить ядро. \n",
      "\u001b[1;31mJupyter server crashed. Unable to connect. \n",
      "\u001b[1;31mError code from Jupyter: 1\n",
      "\u001b[1;31musage: jupyter.py [-h] [--version] [--config-dir] [--data-dir] [--runtime-dir]\n",
      "\u001b[1;31m                  [--paths] [--json] [--debug]\n",
      "\u001b[1;31m                  [subcommand]\n",
      "\u001b[1;31m\n",
      "\u001b[1;31mJupyter: Interactive Computing\n",
      "\u001b[1;31m\n",
      "\u001b[1;31mpositional arguments:\n",
      "\u001b[1;31m  subcommand     the subcommand to launch\n",
      "\u001b[1;31m\n",
      "\u001b[1;31moptions:\n",
      "\u001b[1;31m  -h, --help     show this help message and exit\n",
      "\u001b[1;31m  --version      show the versions of core jupyter packages and exit\n",
      "\u001b[1;31m  --config-dir   show Jupyter config dir\n",
      "\u001b[1;31m  --data-dir     show Jupyter data dir\n",
      "\u001b[1;31m  --runtime-dir  show Jupyter runtime dir\n",
      "\u001b[1;31m  --paths        show all Jupyter paths. Add --json for machine-readable\n",
      "\u001b[1;31m                 format.\n",
      "\u001b[1;31m  --json         output paths as machine-readable json\n",
      "\u001b[1;31m  --debug        output debug information about paths\n",
      "\u001b[1;31m\n",
      "\u001b[1;31mAvailable subcommands:\n",
      "\u001b[1;31m\n",
      "\u001b[1;31mJupyter command `jupyter-notebook` not found. \n",
      "\u001b[1;31mПодробнее см. в <a href='command:jupyter.viewOutput'>журнале Jupyter</a>."
     ]
    }
   ],
   "source": [
    "A = dict(a='a', b='b', c='c')\n",
    "k = A.keys()\n",
    "v = A.values()\n",
    "k, v"
   ]
  },
  {
   "cell_type": "code",
   "execution_count": null,
   "id": "e9341c33",
   "metadata": {},
   "outputs": [
    {
     "ename": "",
     "evalue": "",
     "output_type": "error",
     "traceback": [
      "\u001b[1;31mНе удалось запустить ядро. \n",
      "\u001b[1;31mJupyter server crashed. Unable to connect. \n",
      "\u001b[1;31mError code from Jupyter: 1\n",
      "\u001b[1;31musage: jupyter.py [-h] [--version] [--config-dir] [--data-dir] [--runtime-dir]\n",
      "\u001b[1;31m                  [--paths] [--json] [--debug]\n",
      "\u001b[1;31m                  [subcommand]\n",
      "\u001b[1;31m\n",
      "\u001b[1;31mJupyter: Interactive Computing\n",
      "\u001b[1;31m\n",
      "\u001b[1;31mpositional arguments:\n",
      "\u001b[1;31m  subcommand     the subcommand to launch\n",
      "\u001b[1;31m\n",
      "\u001b[1;31moptions:\n",
      "\u001b[1;31m  -h, --help     show this help message and exit\n",
      "\u001b[1;31m  --version      show the versions of core jupyter packages and exit\n",
      "\u001b[1;31m  --config-dir   show Jupyter config dir\n",
      "\u001b[1;31m  --data-dir     show Jupyter data dir\n",
      "\u001b[1;31m  --runtime-dir  show Jupyter runtime dir\n",
      "\u001b[1;31m  --paths        show all Jupyter paths. Add --json for machine-readable\n",
      "\u001b[1;31m                 format.\n",
      "\u001b[1;31m  --json         output paths as machine-readable json\n",
      "\u001b[1;31m  --debug        output debug information about paths\n",
      "\u001b[1;31m\n",
      "\u001b[1;31mAvailable subcommands:\n",
      "\u001b[1;31m\n",
      "\u001b[1;31mJupyter command `jupyter-notebook` not found. \n",
      "\u001b[1;31mПодробнее см. в <a href='command:jupyter.viewOutput'>журнале Jupyter</a>."
     ]
    }
   ],
   "source": [
    "A['d'] = 'a'\n",
    "k, v"
   ]
  },
  {
   "cell_type": "markdown",
   "id": "fb642eb5",
   "metadata": {},
   "source": [
    "Учтите что итерироваться по представлениям изменяя словарь нельзя:"
   ]
  },
  {
   "cell_type": "code",
   "execution_count": null,
   "id": "fbb9bc52",
   "metadata": {},
   "outputs": [
    {
     "ename": "",
     "evalue": "",
     "output_type": "error",
     "traceback": [
      "\u001b[1;31mНе удалось запустить ядро. \n",
      "\u001b[1;31mJupyter server crashed. Unable to connect. \n",
      "\u001b[1;31mError code from Jupyter: 1\n",
      "\u001b[1;31musage: jupyter.py [-h] [--version] [--config-dir] [--data-dir] [--runtime-dir]\n",
      "\u001b[1;31m                  [--paths] [--json] [--debug]\n",
      "\u001b[1;31m                  [subcommand]\n",
      "\u001b[1;31m\n",
      "\u001b[1;31mJupyter: Interactive Computing\n",
      "\u001b[1;31m\n",
      "\u001b[1;31mpositional arguments:\n",
      "\u001b[1;31m  subcommand     the subcommand to launch\n",
      "\u001b[1;31m\n",
      "\u001b[1;31moptions:\n",
      "\u001b[1;31m  -h, --help     show this help message and exit\n",
      "\u001b[1;31m  --version      show the versions of core jupyter packages and exit\n",
      "\u001b[1;31m  --config-dir   show Jupyter config dir\n",
      "\u001b[1;31m  --data-dir     show Jupyter data dir\n",
      "\u001b[1;31m  --runtime-dir  show Jupyter runtime dir\n",
      "\u001b[1;31m  --paths        show all Jupyter paths. Add --json for machine-readable\n",
      "\u001b[1;31m                 format.\n",
      "\u001b[1;31m  --json         output paths as machine-readable json\n",
      "\u001b[1;31m  --debug        output debug information about paths\n",
      "\u001b[1;31m\n",
      "\u001b[1;31mAvailable subcommands:\n",
      "\u001b[1;31m\n",
      "\u001b[1;31mJupyter command `jupyter-notebook` not found. \n",
      "\u001b[1;31mПодробнее см. в <a href='command:jupyter.viewOutput'>журнале Jupyter</a>."
     ]
    }
   ],
   "source": [
    "for key in A.keys():\n",
    "    del A[key]"
   ]
  },
  {
   "cell_type": "markdown",
   "id": "ed7ad547",
   "metadata": {},
   "source": [
    "Можно, если в начале скопировать представление в список:"
   ]
  },
  {
   "cell_type": "code",
   "execution_count": null,
   "id": "95e6a56f",
   "metadata": {},
   "outputs": [
    {
     "ename": "",
     "evalue": "",
     "output_type": "error",
     "traceback": [
      "\u001b[1;31mНе удалось запустить ядро. \n",
      "\u001b[1;31mJupyter server crashed. Unable to connect. \n",
      "\u001b[1;31mError code from Jupyter: 1\n",
      "\u001b[1;31musage: jupyter.py [-h] [--version] [--config-dir] [--data-dir] [--runtime-dir]\n",
      "\u001b[1;31m                  [--paths] [--json] [--debug]\n",
      "\u001b[1;31m                  [subcommand]\n",
      "\u001b[1;31m\n",
      "\u001b[1;31mJupyter: Interactive Computing\n",
      "\u001b[1;31m\n",
      "\u001b[1;31mpositional arguments:\n",
      "\u001b[1;31m  subcommand     the subcommand to launch\n",
      "\u001b[1;31m\n",
      "\u001b[1;31moptions:\n",
      "\u001b[1;31m  -h, --help     show this help message and exit\n",
      "\u001b[1;31m  --version      show the versions of core jupyter packages and exit\n",
      "\u001b[1;31m  --config-dir   show Jupyter config dir\n",
      "\u001b[1;31m  --data-dir     show Jupyter data dir\n",
      "\u001b[1;31m  --runtime-dir  show Jupyter runtime dir\n",
      "\u001b[1;31m  --paths        show all Jupyter paths. Add --json for machine-readable\n",
      "\u001b[1;31m                 format.\n",
      "\u001b[1;31m  --json         output paths as machine-readable json\n",
      "\u001b[1;31m  --debug        output debug information about paths\n",
      "\u001b[1;31m\n",
      "\u001b[1;31mAvailable subcommands:\n",
      "\u001b[1;31m\n",
      "\u001b[1;31mJupyter command `jupyter-notebook` not found. \n",
      "\u001b[1;31mПодробнее см. в <a href='command:jupyter.viewOutput'>журнале Jupyter</a>."
     ]
    }
   ],
   "source": [
    "for key in list(A.keys()):\n",
    "    del A[key]\n",
    "A"
   ]
  },
  {
   "cell_type": "markdown",
   "id": "cf0bc4e9",
   "metadata": {},
   "source": [
    "### Пример использования словаря"
   ]
  },
  {
   "cell_type": "code",
   "execution_count": null,
   "id": "34312bcc",
   "metadata": {},
   "outputs": [
    {
     "ename": "",
     "evalue": "",
     "output_type": "error",
     "traceback": [
      "\u001b[1;31mНе удалось запустить ядро. \n",
      "\u001b[1;31mJupyter server crashed. Unable to connect. \n",
      "\u001b[1;31mError code from Jupyter: 1\n",
      "\u001b[1;31musage: jupyter.py [-h] [--version] [--config-dir] [--data-dir] [--runtime-dir]\n",
      "\u001b[1;31m                  [--paths] [--json] [--debug]\n",
      "\u001b[1;31m                  [subcommand]\n",
      "\u001b[1;31m\n",
      "\u001b[1;31mJupyter: Interactive Computing\n",
      "\u001b[1;31m\n",
      "\u001b[1;31mpositional arguments:\n",
      "\u001b[1;31m  subcommand     the subcommand to launch\n",
      "\u001b[1;31m\n",
      "\u001b[1;31moptions:\n",
      "\u001b[1;31m  -h, --help     show this help message and exit\n",
      "\u001b[1;31m  --version      show the versions of core jupyter packages and exit\n",
      "\u001b[1;31m  --config-dir   show Jupyter config dir\n",
      "\u001b[1;31m  --data-dir     show Jupyter data dir\n",
      "\u001b[1;31m  --runtime-dir  show Jupyter runtime dir\n",
      "\u001b[1;31m  --paths        show all Jupyter paths. Add --json for machine-readable\n",
      "\u001b[1;31m                 format.\n",
      "\u001b[1;31m  --json         output paths as machine-readable json\n",
      "\u001b[1;31m  --debug        output debug information about paths\n",
      "\u001b[1;31m\n",
      "\u001b[1;31mAvailable subcommands:\n",
      "\u001b[1;31m\n",
      "\u001b[1;31mJupyter command `jupyter-notebook` not found. \n",
      "\u001b[1;31mПодробнее см. в <a href='command:jupyter.viewOutput'>журнале Jupyter</a>."
     ]
    }
   ],
   "source": [
    "# Создадим пустой словать Capitals\n",
    "Capitals = dict()\n",
    "\n",
    "# Заполним его несколькими значениями\n",
    "Capitals['Russia'] = 'Moscow'\n",
    "Capitals['Ukraine'] = 'Kiev'\n",
    "Capitals['USA'] = 'Washington'\n",
    "\n",
    "# Считаем название страны\n",
    "print('В какой стране вы живете?')\n",
    "country = input()\n",
    "\n",
    "# Проверим, есть ли такая страна в словаре Capitals\n",
    "if country in Capitals:\n",
    "    # Если есть - выведем ее столицу\n",
    "    print('Столица вашей страны', Capitals[country])\n",
    "else:\n",
    "    # Запросим название столицы и добавим его в словарь\n",
    "    print('Как называется столица вашей страны?')\n",
    "    city = input()\n",
    "    Capitals[country] = city"
   ]
  },
  {
   "cell_type": "markdown",
   "id": "a7995785",
   "metadata": {},
   "source": [
    "### Трудоемкость стандартных операций со словарем\n",
    "Наиболее важной характеристикой словаря является то, что получение и присваивание элемента в словаре являются операциями за $O(1)$.\n",
    "Словари были созданы специально для того, чтобы как можно быстрее получить и установить значения по ключу.\n",
    "\n",
    "Другая важная операция словаря - проверка наличия ключа в словаре. Операция `contains()` также работает за $O(1)$ (в случае со списками это занимало $O(N)$), потому что проверка для данного ключа подразумевает простое получение элемента по ключу, которое делается за $O(1)$."
   ]
  },
  {
   "cell_type": "markdown",
   "id": "157234c4",
   "metadata": {},
   "source": [
    "### Когда нужно использовать словари\n",
    "Словари нужно использовать в следующих случаях:\n",
    "* Подсчет числа каких-то объектов. В этом случае нужно завести словарь, в котором ключами являются объекты, а значениями — их количество.\n",
    "* Хранение каких-либо данных, связанных с объектом. Ключи — объекты, значения — связанные с ними данные. Например, если нужно по названию месяца определить его порядковый номер, то это можно сделать при помощи словаря \n",
    "```python\n",
    "Num['January'] = 1 \n",
    "Num['February'] = 2\n",
    "...\n",
    "```\n",
    "* Установка соответствия между объектами (например, “родитель—потомок”). Ключ — объект, значение — соответствующий ему объект.\n",
    "* Если нужен обычный массив, но при этом масимальное значение индекса элемента очень велико, но при этом будут использоваться не все возможные индексы (так называемый “разреженный массив”), то можно использовать ассоциативный массив для экономии памяти."
   ]
  },
  {
   "cell_type": "code",
   "execution_count": null,
   "id": "7747aaca",
   "metadata": {},
   "outputs": [
    {
     "ename": "",
     "evalue": "",
     "output_type": "error",
     "traceback": [
      "\u001b[1;31mНе удалось запустить ядро. \n",
      "\u001b[1;31mJupyter server crashed. Unable to connect. \n",
      "\u001b[1;31mError code from Jupyter: 1\n",
      "\u001b[1;31musage: jupyter.py [-h] [--version] [--config-dir] [--data-dir] [--runtime-dir]\n",
      "\u001b[1;31m                  [--paths] [--json] [--debug]\n",
      "\u001b[1;31m                  [subcommand]\n",
      "\u001b[1;31m\n",
      "\u001b[1;31mJupyter: Interactive Computing\n",
      "\u001b[1;31m\n",
      "\u001b[1;31mpositional arguments:\n",
      "\u001b[1;31m  subcommand     the subcommand to launch\n",
      "\u001b[1;31m\n",
      "\u001b[1;31moptions:\n",
      "\u001b[1;31m  -h, --help     show this help message and exit\n",
      "\u001b[1;31m  --version      show the versions of core jupyter packages and exit\n",
      "\u001b[1;31m  --config-dir   show Jupyter config dir\n",
      "\u001b[1;31m  --data-dir     show Jupyter data dir\n",
      "\u001b[1;31m  --runtime-dir  show Jupyter runtime dir\n",
      "\u001b[1;31m  --paths        show all Jupyter paths. Add --json for machine-readable\n",
      "\u001b[1;31m                 format.\n",
      "\u001b[1;31m  --json         output paths as machine-readable json\n",
      "\u001b[1;31m  --debug        output debug information about paths\n",
      "\u001b[1;31m\n",
      "\u001b[1;31mAvailable subcommands:\n",
      "\u001b[1;31m\n",
      "\u001b[1;31mJupyter command `jupyter-notebook` not found. \n",
      "\u001b[1;31mПодробнее см. в <a href='command:jupyter.viewOutput'>журнале Jupyter</a>."
     ]
    }
   ],
   "source": []
  }
 ],
 "metadata": {
  "kernelspec": {
   "display_name": "Python 3",
   "language": "python",
   "name": "python3"
  },
  "language_info": {
   "codemirror_mode": {
    "name": "ipython",
    "version": 3
   },
   "file_extension": ".py",
   "mimetype": "text/x-python",
   "name": "python",
   "nbconvert_exporter": "python",
   "pygments_lexer": "ipython3",
   "version": "3.9.6"
  },
  "vscode": {
   "interpreter": {
    "hash": "31f2aee4e71d21fbe5cf8b01ff0e069b9275f58929596ceb00d14d90e3e16cd6"
   }
  }
 },
 "nbformat": 4,
 "nbformat_minor": 5
}
